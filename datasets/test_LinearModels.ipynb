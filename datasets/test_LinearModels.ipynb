{
 "cells": [
  {
   "cell_type": "markdown",
   "metadata": {},
   "source": [
    "## TEST DATASET INITIALISATION"
   ]
  },
  {
   "cell_type": "code",
   "execution_count": 1,
   "metadata": {},
   "outputs": [],
   "source": [
    "import sys\n",
    "sys.path.append('../')\n",
    "\n",
    "import numpy as np\n",
    "import random\n",
    "import torch\n",
    "import torch.nn as nn\n",
    "import torch.nn.functional as F\n",
    "import torch.optim as optim\n",
    "import torch.utils.data as data_utils\n",
    "\n",
    "import datasets"
   ]
  },
  {
   "cell_type": "code",
   "execution_count": 2,
   "metadata": {},
   "outputs": [],
   "source": [
    "m = 12\n",
    "d = 8\n"
   ]
  },
  {
   "cell_type": "code",
   "execution_count": 3,
   "metadata": {},
   "outputs": [],
   "source": [
    "\n",
    "train_size = 1000000 # size of the training set\n",
    "test_size = 20000 # size of the test set\n",
    "\n",
    "dataset = datasets.LinearModelxy(\n",
    "        train_size = train_size,\n",
    "        num_samples = m,\n",
    "        dimension = d,\n",
    "        seed_function=1,\n",
    "        seed_sample=1,\n",
    "        test_size=test_size,\n",
    "        transform=None\n",
    ")"
   ]
  },
  {
   "cell_type": "code",
   "execution_count": 4,
   "metadata": {},
   "outputs": [
    {
     "name": "stdout",
     "output_type": "stream",
     "text": [
      "torch.Size([1020000, 13, 9])\n",
      "tensor(-6.1851e-05)\n",
      "tensor(1.4851)\n"
     ]
    }
   ],
   "source": [
    "x = dataset.samples\n",
    "print(x.size())\n",
    "print(x.mean(dim=1).mean())\n",
    "print(x.norm(dim=1).mean())"
   ]
  },
  {
   "cell_type": "code",
   "execution_count": 6,
   "metadata": {},
   "outputs": [
    {
     "name": "stdout",
     "output_type": "stream",
     "text": [
      "['__add__', '__class__', '__class_getitem__', '__delattr__', '__dict__', '__dir__', '__doc__', '__eq__', '__format__', '__ge__', '__getattribute__', '__getitem__', '__gt__', '__hash__', '__init__', '__init_subclass__', '__le__', '__len__', '__lt__', '__module__', '__ne__', '__new__', '__orig_bases__', '__parameters__', '__reduce__', '__reduce_ex__', '__repr__', '__setattr__', '__sizeof__', '__slots__', '__str__', '__subclasshook__', '__weakref__', '_is_protocol', 'dimension', 'labels', 'num_samples', 'samples', 'transform']\n",
      "torch.Size([1020000, 13, 9])\n",
      "torch.Size([1020000])\n"
     ]
    }
   ],
   "source": [
    "print(dir(dataset)) \n",
    "\n",
    "# for the input points call trainset.input\n",
    "print(dataset.samples.size()) # dimension: train_size x num_features x input_size\n",
    "\n",
    "# for the labels call trainset.output\n",
    "print(dataset.labels.size()) # dimension: train_size"
   ]
  },
  {
   "cell_type": "code",
   "execution_count": 7,
   "metadata": {},
   "outputs": [
    {
     "name": "stdout",
     "output_type": "stream",
     "text": [
      "tensor([[-0.4864, -0.2392, -0.2085, -0.5131, -0.0319, -0.1942, -0.3124, -0.5130,\n",
      "          3.1367],\n",
      "        [-0.3382,  0.1442, -0.3692, -0.1194, -0.1056,  0.8013,  0.1085,  0.2221,\n",
      "         -0.0998],\n",
      "        [-0.3376, -0.5622,  0.3388,  0.0964,  0.4193,  0.1184, -0.3211,  0.3910,\n",
      "          0.1313],\n",
      "        [ 0.3590, -0.0573, -0.7317, -0.4713,  0.0199, -0.2013, -0.2600, -0.0429,\n",
      "          1.1768],\n",
      "        [ 0.8907, -0.0342,  0.0748, -0.3666,  0.0943,  0.0217,  0.0725, -0.2255,\n",
      "         -0.5230],\n",
      "        [-0.0358,  0.0943, -0.0509, -0.0093,  0.7595, -0.3342,  0.5074, -0.2029,\n",
      "         -0.0111],\n",
      "        [-0.3375,  0.1984,  0.0241, -0.1591,  0.2776,  0.1607,  0.4241,  0.7336,\n",
      "         -1.1152],\n",
      "        [ 0.0342,  0.2337, -0.0463, -0.1605,  0.3832, -0.2165, -0.8294, -0.1862,\n",
      "          1.2668],\n",
      "        [-0.0111, -0.4462, -0.2600, -0.4385, -0.0918, -0.0033,  0.7297,  0.0045,\n",
      "          0.5165],\n",
      "        [-0.3583, -0.0943, -0.5070, -0.4230, -0.2346, -0.2850,  0.2013, -0.4999,\n",
      "          2.4341],\n",
      "        [-0.2672,  0.0526, -0.3450,  0.3860, -0.7567, -0.2642,  0.0905, -0.0844,\n",
      "          0.2564],\n",
      "        [ 0.0942, -0.1857, -0.3852,  0.2709, -0.3879, -0.1742,  0.1077,  0.7365,\n",
      "         -1.3342],\n",
      "        [ 0.2334,  0.4198,  0.2881, -0.3223,  0.4887, -0.2872, -0.3273,  0.3923,\n",
      "          0.0000]])\n"
     ]
    }
   ],
   "source": [
    "print(dataset.samples[0,:,:])"
   ]
  },
  {
   "cell_type": "code",
   "execution_count": 16,
   "metadata": {},
   "outputs": [
    {
     "name": "stdout",
     "output_type": "stream",
     "text": [
      "torch.Size([1020000, 10])\n",
      "tensor([0.3162, 0.3162, 0.3162, 0.3162, 0.3162, 0.3162, 0.3162, 0.3162, 0.3162,\n",
      "        0.3162]) tensor(1.)\n",
      "torch.Size([1020000, 10])\n",
      "tensor([[-0.1054, -0.1054, -0.1054, -0.1054, -0.1054,  0.9487, -0.1054, -0.1054,\n",
      "         -0.1054, -0.1054],\n",
      "        [ 0.9487, -0.1054, -0.1054, -0.1054, -0.1054, -0.1054, -0.1054, -0.1054,\n",
      "         -0.1054, -0.1054],\n",
      "        [-0.1054, -0.1054, -0.1054, -0.1054, -0.1054, -0.1054, -0.1054, -0.1054,\n",
      "          0.9487, -0.1054],\n",
      "        [-0.1054, -0.1054, -0.1054, -0.1054, -0.1054, -0.1054, -0.1054,  0.9487,\n",
      "         -0.1054, -0.1054],\n",
      "        [-0.1054, -0.1054, -0.1054, -0.1054, -0.1054,  0.9487, -0.1054, -0.1054,\n",
      "         -0.1054, -0.1054],\n",
      "        [-0.1054,  0.9487, -0.1054, -0.1054, -0.1054, -0.1054, -0.1054, -0.1054,\n",
      "         -0.1054, -0.1054],\n",
      "        [-0.1054,  0.9487, -0.1054, -0.1054, -0.1054, -0.1054, -0.1054, -0.1054,\n",
      "         -0.1054, -0.1054],\n",
      "        [-0.1054, -0.1054, -0.1054, -0.1054, -0.1054,  0.9487, -0.1054, -0.1054,\n",
      "         -0.1054, -0.1054],\n",
      "        [-0.1054, -0.1054, -0.1054, -0.1054, -0.1054, -0.1054, -0.1054, -0.1054,\n",
      "          0.9487, -0.1054],\n",
      "        [-0.1054, -0.1054, -0.1054, -0.1054, -0.1054, -0.1054, -0.1054, -0.1054,\n",
      "         -0.1054,  0.9487]])\n"
     ]
    }
   ],
   "source": [
    "import math\n",
    "\n",
    "lastfeat = torch.clone(dataset.features[:,:,-1])\n",
    "print(lastfeat.size())\n",
    "\n",
    "cls = torch.ones(v)/math.sqrt(v)\n",
    "print(cls, cls.norm())\n",
    "cls = torch.tile( cls, [train_size+test_size, 1])\n",
    "print(cls.size())\n",
    "\n",
    "dataset.features[:,:,-1] = cls\n",
    "print(lastfeat[:10,:])"
   ]
  },
  {
   "cell_type": "code",
   "execution_count": null,
   "metadata": {},
   "outputs": [],
   "source": []
  }
 ],
 "metadata": {
  "kernelspec": {
   "display_name": "Python 3",
   "language": "python",
   "name": "python3"
  },
  "language_info": {
   "codemirror_mode": {
    "name": "ipython",
    "version": 3
   },
   "file_extension": ".py",
   "mimetype": "text/x-python",
   "name": "python",
   "nbconvert_exporter": "python",
   "pygments_lexer": "ipython3",
   "version": "3.8.5"
  }
 },
 "nbformat": 4,
 "nbformat_minor": 4
}
